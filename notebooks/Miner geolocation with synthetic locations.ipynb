{
 "cells": [
  {
   "cell_type": "code",
   "execution_count": 29,
   "id": "634ff8b5",
   "metadata": {},
   "outputs": [],
   "source": [
    "import pandas as pd\n",
    "import numpy as np\n",
    "import matplotlib.pyplot as plt\n",
    "import networkx as nx\n",
    "import string\n",
    "import itertools\n",
    "from tqdm import tqdm\n",
    "from scipy import stats\n",
    "from geolite2 import geolite2  # pip install maxminddb-geolite2"
   ]
  },
  {
   "cell_type": "code",
   "execution_count": 8,
   "id": "90529d69",
   "metadata": {},
   "outputs": [],
   "source": [
    "geo = geolite2.reader()\n",
    "\n",
    "def extract_country(x):\n",
    "    out = np.nan\n",
    "    try:\n",
    "        # out = geo.get(x)['country']['names']['en']\n",
    "        out = geo.get(x)['country']['iso_code']\n",
    "    except:\n",
    "        pass\n",
    "    return out\n"
   ]
  },
  {
   "cell_type": "markdown",
   "id": "2e1c5b94",
   "metadata": {},
   "source": [
    "### Procedure\n",
    "\n",
    "1. Load all historical data.\n",
    "2. Create the network\n",
    "    * Connect all miners to all workers/owners seen\n",
    "    * Connect all miners to all control addresses\n",
    "3. Split the disconnected network into connected subgraphs\n",
    "4. Find all subgraphs with at least one geolocated miner.\n",
    "5. With subgraphs selected from (4), construct an output dataframe of locations"
   ]
  },
  {
   "cell_type": "code",
   "execution_count": 159,
   "id": "2fbb66dd",
   "metadata": {},
   "outputs": [],
   "source": [
    "# 1a. Load worker relationship data\n",
    "data = pd.read_csv('../data/worker_relationship_jun_19.csv', index_col=[0])\n",
    "dsplt = data['multi_addresses'].str.split('/', expand=True)\n",
    "dsplt = dsplt[dsplt.columns[2]]\n",
    "data['ip'] = dsplt\n",
    "del dsplt\n",
    "\n",
    "# 1b. Load Dylan's list of active miners\n",
    "df_active_miners = pd.read_csv('../data/dylan_map.csv', index_col=[0])\n",
    "active_miners = df_active_miners.miner_id.unique()\n",
    "data['is_active_miner'] = data.miner_id.isin(active_miners)\n",
    "\n",
    "# 1c. Extract country\n",
    "data['country'] = data['ip'].apply(extract_country)\n",
    "\n",
    "# 2. Create network\n",
    "# 2a. Connect all miners to workers/owners seen\n",
    "G = nx.Graph()\n",
    "for m,c in zip(data.miner_id, data.country):\n",
    "    G.add_node(m, country=c)\n",
    "G.add_edges_from([mi, wi] for mi, wi in data[['miner_id', 'worker_id']].drop_duplicates().values)\n",
    "G.add_edges_from([mi, oi] for mi, oi in data[['miner_id', 'owner_id']].drop_duplicates().values)\n",
    "\n",
    "# 2b. Connect all miners to their control addresses\n",
    "for mi, ca in zip(data.miner_id, data.control_addresses):\n",
    "    ca_string = str(ca)\n",
    "    if ca_string[0] == '[':\n",
    "        \n",
    "        # Only one control address\n",
    "        if ',' not in ca_string:\n",
    "            ca_out = ca_string.translate(str.maketrans('', '', string.punctuation))\n",
    "            G.add_edge(mi, ca_out)\n",
    "\n",
    "        # Multiple control addresses \n",
    "        else:\n",
    "            ca_list = ca_string.translate(str.maketrans('', '', string.punctuation)).split(\" \")\n",
    "            for ca in ca_list:\n",
    "                G.add_edge(mi,ca)            \n",
    "\n",
    "# 3. Split the network into connected subgraphs\n",
    "all_components = sorted(nx.connected_components(G), key=len)[::-1]"
   ]
  },
  {
   "cell_type": "code",
   "execution_count": 177,
   "id": "7103b3af",
   "metadata": {},
   "outputs": [
    {
     "name": "stderr",
     "output_type": "stream",
     "text": [
      "Subgraph 8858: 100%|████████████████████████| 8859/8859 [02:33<00:00, 57.60it/s]\n"
     ]
    }
   ],
   "source": [
    "# 4. Find all subgraphs with more than one geolocated country\n",
    "selected_subgraph_idx = []\n",
    "countries_seen_in_subgraph = {}\n",
    "t = tqdm(range(len(all_components)))\n",
    "for i in t:\n",
    "    t.set_description('Subgraph %i' % i)\n",
    "    miners_in_each_subnetwork = list(all_components[i])\n",
    "    miner_count_of_countries = data[data.miner_id.isin(miners_in_each_subnetwork)].\\\n",
    "                                                                           groupby('country').sum().\\\n",
    "                                                                           sort_values(by='is_active_miner', ascending=False).\\\n",
    "                                                                           is_active_miner\n",
    "    if miner_count_of_countries.sum() > 0:\n",
    "        selected_subgraph_idx.append(i)\n",
    "        countries_seen_in_subgraph[i] = miner_count_of_countries"
   ]
  },
  {
   "cell_type": "code",
   "execution_count": 285,
   "id": "c2918fd1",
   "metadata": {},
   "outputs": [
    {
     "name": "stderr",
     "output_type": "stream",
     "text": [
      "100%|█████████████████████████████████████████| 387/387 [00:45<00:00,  8.42it/s]\n"
     ]
    }
   ],
   "source": [
    "df_out = pd.DataFrame(columns=['node', 'original_geolocated', 'country'])\n",
    "for subgraph_idx in tqdm(selected_subgraph_idx):\n",
    "    nodes_in_subgraph = list(all_components[subgraph_idx])\n",
    "    reference_df = data[data.miner_id.isin(nodes_in_subgraph)]\n",
    "    geolocated_miners = data[data.miner_id.isin(nodes_in_subgraph) & ~data.country.isnull()].miner_id.unique()\n",
    "    confidences = reference_df.country.value_counts() /reference_df.country.value_counts().sum() \n",
    "    \n",
    "    for node in nodes_in_subgraph:\n",
    "        \n",
    "        # If original node is geolocated, set its location \n",
    "        if node in geolocated_miners:\n",
    "            dict_to_append = {\n",
    "                'node': node,\n",
    "                'original_geolocated': True,\n",
    "                'country': reference_df[reference_df.miner_id==node].country.dropna().unique()[0],\n",
    "                'confidence': 1\n",
    "            }\n",
    "            df_out = pd.concat([df_out, pd.DataFrame(dict_to_append, index=[0])])\n",
    "            \n",
    "        else:\n",
    "            # If the node wasn't originally geolocated, note the modal location and confidence\n",
    "            inferred_country = reference_df.country.value_counts().index[0]\n",
    "            dict_to_append = {\n",
    "                'node': node,\n",
    "                'original_geolocated': False,\n",
    "                'country': inferred_country,\n",
    "                'confidence': confidences[inferred_country]\n",
    "            }\n",
    "            df_out = pd.concat([df_out, pd.DataFrame(dict_to_append, index=[0])])\n",
    "            "
   ]
  },
  {
   "cell_type": "code",
   "execution_count": 299,
   "id": "a737a196",
   "metadata": {},
   "outputs": [],
   "source": [
    "df_final = pd.DataFrame(df_active_miners.miner_id.unique(), columns=['miner_id'])\\\n",
    "             .merge(df_out, left_on='miner_id', right_on='node')"
   ]
  },
  {
   "cell_type": "code",
   "execution_count": 337,
   "id": "7bb72c49",
   "metadata": {},
   "outputs": [
    {
     "data": {
      "text/html": [
       "<div>\n",
       "<style scoped>\n",
       "    .dataframe tbody tr th:only-of-type {\n",
       "        vertical-align: middle;\n",
       "    }\n",
       "\n",
       "    .dataframe tbody tr th {\n",
       "        vertical-align: top;\n",
       "    }\n",
       "\n",
       "    .dataframe thead th {\n",
       "        text-align: right;\n",
       "    }\n",
       "</style>\n",
       "<table border=\"1\" class=\"dataframe\">\n",
       "  <thead>\n",
       "    <tr style=\"text-align: right;\">\n",
       "      <th></th>\n",
       "      <th>miner_id</th>\n",
       "      <th>node</th>\n",
       "      <th>original_geolocated</th>\n",
       "      <th>country</th>\n",
       "      <th>confidence</th>\n",
       "    </tr>\n",
       "  </thead>\n",
       "  <tbody>\n",
       "    <tr>\n",
       "      <th>0</th>\n",
       "      <td>f0109070</td>\n",
       "      <td>f0109070</td>\n",
       "      <td>False</td>\n",
       "      <td>SG</td>\n",
       "      <td>0.304348</td>\n",
       "    </tr>\n",
       "    <tr>\n",
       "      <th>1</th>\n",
       "      <td>f01753718</td>\n",
       "      <td>f01753718</td>\n",
       "      <td>False</td>\n",
       "      <td>US</td>\n",
       "      <td>1.000000</td>\n",
       "    </tr>\n",
       "    <tr>\n",
       "      <th>2</th>\n",
       "      <td>f045779</td>\n",
       "      <td>f045779</td>\n",
       "      <td>False</td>\n",
       "      <td>CN</td>\n",
       "      <td>0.347826</td>\n",
       "    </tr>\n",
       "    <tr>\n",
       "      <th>3</th>\n",
       "      <td>f087081</td>\n",
       "      <td>f087081</td>\n",
       "      <td>False</td>\n",
       "      <td>US</td>\n",
       "      <td>0.750000</td>\n",
       "    </tr>\n",
       "    <tr>\n",
       "      <th>4</th>\n",
       "      <td>f01236251</td>\n",
       "      <td>f01236251</td>\n",
       "      <td>False</td>\n",
       "      <td>CN</td>\n",
       "      <td>1.000000</td>\n",
       "    </tr>\n",
       "    <tr>\n",
       "      <th>...</th>\n",
       "      <td>...</td>\n",
       "      <td>...</td>\n",
       "      <td>...</td>\n",
       "      <td>...</td>\n",
       "      <td>...</td>\n",
       "    </tr>\n",
       "    <tr>\n",
       "      <th>2979</th>\n",
       "      <td>f0133509</td>\n",
       "      <td>f0133509</td>\n",
       "      <td>True</td>\n",
       "      <td>HK</td>\n",
       "      <td>1.000000</td>\n",
       "    </tr>\n",
       "    <tr>\n",
       "      <th>2980</th>\n",
       "      <td>f01794610</td>\n",
       "      <td>f01794610</td>\n",
       "      <td>True</td>\n",
       "      <td>US</td>\n",
       "      <td>1.000000</td>\n",
       "    </tr>\n",
       "    <tr>\n",
       "      <th>2981</th>\n",
       "      <td>f01936456</td>\n",
       "      <td>f01936456</td>\n",
       "      <td>True</td>\n",
       "      <td>VN</td>\n",
       "      <td>1.000000</td>\n",
       "    </tr>\n",
       "    <tr>\n",
       "      <th>2982</th>\n",
       "      <td>f024016</td>\n",
       "      <td>f024016</td>\n",
       "      <td>True</td>\n",
       "      <td>US</td>\n",
       "      <td>1.000000</td>\n",
       "    </tr>\n",
       "    <tr>\n",
       "      <th>2983</th>\n",
       "      <td>f090911</td>\n",
       "      <td>f090911</td>\n",
       "      <td>False</td>\n",
       "      <td>CN</td>\n",
       "      <td>1.000000</td>\n",
       "    </tr>\n",
       "  </tbody>\n",
       "</table>\n",
       "<p>2984 rows × 5 columns</p>\n",
       "</div>"
      ],
      "text/plain": [
       "       miner_id       node original_geolocated country  confidence\n",
       "0      f0109070   f0109070               False      SG    0.304348\n",
       "1     f01753718  f01753718               False      US    1.000000\n",
       "2       f045779    f045779               False      CN    0.347826\n",
       "3       f087081    f087081               False      US    0.750000\n",
       "4     f01236251  f01236251               False      CN    1.000000\n",
       "...         ...        ...                 ...     ...         ...\n",
       "2979   f0133509   f0133509                True      HK    1.000000\n",
       "2980  f01794610  f01794610                True      US    1.000000\n",
       "2981  f01936456  f01936456                True      VN    1.000000\n",
       "2982    f024016    f024016                True      US    1.000000\n",
       "2983    f090911    f090911               False      CN    1.000000\n",
       "\n",
       "[2984 rows x 5 columns]"
      ]
     },
     "execution_count": 337,
     "metadata": {},
     "output_type": "execute_result"
    }
   ],
   "source": [
    "df_final"
   ]
  },
  {
   "cell_type": "code",
   "execution_count": 336,
   "id": "7812aae7",
   "metadata": {},
   "outputs": [
    {
     "data": {
      "text/plain": [
       "Text(0.5, 1.0, 'Distribution of miners by country')"
      ]
     },
     "execution_count": 336,
     "metadata": {},
     "output_type": "execute_result"
    },
    {
     "data": {
      "image/png": "[encoded data removed]",
      "text/plain": [
       "<Figure size 864x216 with 2 Axes>"
      ]
     },
     "metadata": {
      "needs_background": "light"
     },
     "output_type": "display_data"
    }
   ],
   "source": [
    "fig, (ax1,ax2) = plt.subplots(1,2,figsize=(12,3))\n",
    "df_final.groupby('original_geolocated').count().node.plot(kind='pie', ax=ax1)\n",
    "df_final.groupby('country').count().node.sort_values(ascending=False).plot(kind='bar', ax=ax2)\n",
    "ax1.set_title('Active nodes %i \\n Total geolocated %i \\n Originally geolocated %i' % (len(df_active_miners.miner_id.unique()) , len(df_final), len(df_final[df_final.original_geolocated==True])))\n",
    "ax2.set_title('Distribution of miners by country')"
   ]
  }
 ],
 "metadata": {
  "kernelspec": {
   "display_name": "Python 3 (ipykernel)",
   "language": "python",
   "name": "python3"
  },
  "language_info": {
   "codemirror_mode": {
    "name": "ipython",
    "version": 3
   },
   "file_extension": ".py",
   "mimetype": "text/x-python",
   "name": "python",
   "nbconvert_exporter": "python",
   "pygments_lexer": "ipython3",
   "version": "3.9.10"
  }
 },
 "nbformat": 4,
 "nbformat_minor": 5
}

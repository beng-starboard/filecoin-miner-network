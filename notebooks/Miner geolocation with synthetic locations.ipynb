{
 "cells": [
  {
   "cell_type": "code",
   "execution_count": 29,
   "id": "9e2a90a4",
   "metadata": {},
   "outputs": [],
   "source": [
    "import pandas as pd\n",
    "import numpy as np\n",
    "import matplotlib.pyplot as plt\n",
    "import networkx as nx\n",
    "import string\n",
    "import itertools\n",
    "from tqdm import tqdm\n",
    "from scipy import stats\n",
    "from geolite2 import geolite2  # pip install maxminddb-geolite2"
   ]
  },
  {
   "cell_type": "code",
   "execution_count": 8,
   "id": "a02c87bf",
   "metadata": {},
   "outputs": [],
   "source": [
    "geo = geolite2.reader()\n",
    "\n",
    "def extract_country(x):\n",
    "    out = np.nan\n",
    "    try:\n",
    "        # out = geo.get(x)['country']['names']['en']\n",
    "        out = geo.get(x)['country']['iso_code']\n",
    "    except:\n",
    "        pass\n",
    "    return out\n"
   ]
  },
  {
   "cell_type": "markdown",
   "id": "09cf01bc",
   "metadata": {},
   "source": [
    "### Procedure\n",
    "\n",
    "1. Load all historical data.\n",
    "2. Create the network\n",
    "    * Connect all miners to all workers/owners seen\n",
    "    * Connect all miners to all control addresses\n",
    "3. Split the disconnected network into connected subgraphs\n",
    "4. Find all subgraphs with at least one geolocated miner.\n",
    "5. With subgraphs selected from (4), construct an output dataframe of locations"
   ]
  },
  {
   "cell_type": "code",
   "execution_count": 436,
   "id": "faa5ae53",
   "metadata": {},
   "outputs": [],
   "source": [
    "# 1a. Load worker relationship data\n",
    "data = pd.read_csv('../data/worker_relationship_jun_19.csv', index_col=[0])\n",
    "dsplt = data['multi_addresses'].str.split('/', expand=True)\n",
    "dsplt = dsplt[dsplt.columns[2]]\n",
    "data['ip'] = dsplt\n",
    "del dsplt\n",
    "\n",
    "# 1b. Load Dylan's list of active miners\n",
    "df_active_miners = pd.read_csv('../data/active miners 2022-12-20.csv')\n",
    "active_miners = df_active_miners.miner_id.unique()\n",
    "data['is_active_miner'] = data.miner_id.isin(active_miners)\n",
    "\n",
    "# 1c. Extract country\n",
    "data['country'] = data['ip'].apply(extract_country)\n",
    "\n",
    "# 2. Create network\n",
    "# 2a. Connect all miners to workers/owners seen\n",
    "G = nx.Graph()\n",
    "for m,c in zip(data.miner_id, data.country):\n",
    "    G.add_node(m, country=c)\n",
    "G.add_edges_from([mi, wi] for mi, wi in data[['miner_id', 'worker_id']].drop_duplicates().values)\n",
    "G.add_edges_from([mi, oi] for mi, oi in data[['miner_id', 'owner_id']].drop_duplicates().values)\n",
    "\n",
    "# 2b. Connect all miners to their control addresses\n",
    "for mi, ca in zip(data.miner_id, data.control_addresses):\n",
    "    ca_string = str(ca)\n",
    "    if ca_string[0] == '[':\n",
    "        \n",
    "        # Only one control address\n",
    "        if ',' not in ca_string:\n",
    "            ca_out = ca_string.translate(str.maketrans('', '', string.punctuation))\n",
    "            G.add_edge(mi, ca_out)\n",
    "\n",
    "        # Multiple control addresses \n",
    "        else:\n",
    "            ca_list = ca_string.translate(str.maketrans('', '', string.punctuation)).split(\" \")\n",
    "            for ca in ca_list:\n",
    "                G.add_edge(mi,ca)            \n",
    "\n",
    "# 3. Split the network into connected subgraphs\n",
    "all_components = sorted(nx.connected_components(G), key=len)[::-1]"
   ]
  },
  {
   "cell_type": "code",
   "execution_count": 443,
   "id": "8d9e72cf",
   "metadata": {},
   "outputs": [
    {
     "data": {
      "text/html": [
       "<div>\n",
       "<style scoped>\n",
       "    .dataframe tbody tr th:only-of-type {\n",
       "        vertical-align: middle;\n",
       "    }\n",
       "\n",
       "    .dataframe tbody tr th {\n",
       "        vertical-align: top;\n",
       "    }\n",
       "\n",
       "    .dataframe thead th {\n",
       "        text-align: right;\n",
       "    }\n",
       "</style>\n",
       "<table border=\"1\" class=\"dataframe\">\n",
       "  <thead>\n",
       "    <tr style=\"text-align: right;\">\n",
       "      <th></th>\n",
       "      <th>miner_id</th>\n",
       "      <th>owner_id</th>\n",
       "      <th>worker_id</th>\n",
       "      <th>control_addresses</th>\n",
       "      <th>multi_addresses</th>\n",
       "      <th>ip</th>\n",
       "      <th>is_active_miner</th>\n",
       "      <th>country</th>\n",
       "    </tr>\n",
       "  </thead>\n",
       "  <tbody>\n",
       "    <tr>\n",
       "      <th>168844</th>\n",
       "      <td>f0781856</td>\n",
       "      <td>f0180778</td>\n",
       "      <td>f0180778</td>\n",
       "      <td>NaN</td>\n",
       "      <td>NaN</td>\n",
       "      <td>NaN</td>\n",
       "      <td>False</td>\n",
       "      <td>NaN</td>\n",
       "    </tr>\n",
       "    <tr>\n",
       "      <th>116124</th>\n",
       "      <td>f01607886</td>\n",
       "      <td>f01607638</td>\n",
       "      <td>f01607638</td>\n",
       "      <td>[\"f01759098\", \"f01767069\", \"f01767069\"]</td>\n",
       "      <td>[\"/ip4/58.227.252.50/tcp/38133\"]</td>\n",
       "      <td>58.227.252.50</td>\n",
       "      <td>True</td>\n",
       "      <td>KR</td>\n",
       "    </tr>\n",
       "    <tr>\n",
       "      <th>533655</th>\n",
       "      <td>f0338464</td>\n",
       "      <td>f0257583</td>\n",
       "      <td>f0257583</td>\n",
       "      <td>NaN</td>\n",
       "      <td>NaN</td>\n",
       "      <td>NaN</td>\n",
       "      <td>False</td>\n",
       "      <td>NaN</td>\n",
       "    </tr>\n",
       "    <tr>\n",
       "      <th>369849</th>\n",
       "      <td>f0933802</td>\n",
       "      <td>f0264039</td>\n",
       "      <td>f0264039</td>\n",
       "      <td>NaN</td>\n",
       "      <td>NaN</td>\n",
       "      <td>NaN</td>\n",
       "      <td>False</td>\n",
       "      <td>NaN</td>\n",
       "    </tr>\n",
       "    <tr>\n",
       "      <th>104226</th>\n",
       "      <td>f01547496</td>\n",
       "      <td>f01520312</td>\n",
       "      <td>f01520312</td>\n",
       "      <td>NaN</td>\n",
       "      <td>NaN</td>\n",
       "      <td>NaN</td>\n",
       "      <td>False</td>\n",
       "      <td>NaN</td>\n",
       "    </tr>\n",
       "  </tbody>\n",
       "</table>\n",
       "</div>"
      ],
      "text/plain": [
       "         miner_id   owner_id  worker_id  \\\n",
       "168844   f0781856   f0180778   f0180778   \n",
       "116124  f01607886  f01607638  f01607638   \n",
       "533655   f0338464   f0257583   f0257583   \n",
       "369849   f0933802   f0264039   f0264039   \n",
       "104226  f01547496  f01520312  f01520312   \n",
       "\n",
       "                              control_addresses  \\\n",
       "168844                                      NaN   \n",
       "116124  [\"f01759098\", \"f01767069\", \"f01767069\"]   \n",
       "533655                                      NaN   \n",
       "369849                                      NaN   \n",
       "104226                                      NaN   \n",
       "\n",
       "                         multi_addresses             ip  is_active_miner  \\\n",
       "168844                               NaN            NaN            False   \n",
       "116124  [\"/ip4/58.227.252.50/tcp/38133\"]  58.227.252.50             True   \n",
       "533655                               NaN            NaN            False   \n",
       "369849                               NaN            NaN            False   \n",
       "104226                               NaN            NaN            False   \n",
       "\n",
       "       country  \n",
       "168844     NaN  \n",
       "116124      KR  \n",
       "533655     NaN  \n",
       "369849     NaN  \n",
       "104226     NaN  "
      ]
     },
     "execution_count": 443,
     "metadata": {},
     "output_type": "execute_result"
    }
   ],
   "source": [
    "data.sample(10).head()"
   ]
  },
  {
   "cell_type": "code",
   "execution_count": 345,
   "id": "ec6f45f2",
   "metadata": {},
   "outputs": [
    {
     "name": "stderr",
     "output_type": "stream",
     "text": [
      "Subgraph 8858: 100%|████████████████████████| 8859/8859 [02:39<00:00, 55.48it/s]\n"
     ]
    }
   ],
   "source": [
    "# 4. Find all subgraphs with more than one geolocated country\n",
    "#    This is to save computational effort later\n",
    "selected_subgraph_idx = []\n",
    "countries_seen_in_subgraph = {}\n",
    "t = tqdm(range(len(all_components)))\n",
    "for i in t:\n",
    "    t.set_description('Subgraph %i' % i)\n",
    "    miners_in_each_subnetwork = list(all_components[i])\n",
    "    miner_count_of_countries = data[data.miner_id.isin(miners_in_each_subnetwork)].\\\n",
    "                                                                           groupby('country').sum().\\\n",
    "                                                                           sort_values(by='is_active_miner', ascending=False).\\\n",
    "                                                                           is_active_miner\n",
    "    if miner_count_of_countries.sum() > 0:\n",
    "        selected_subgraph_idx.append(i)\n",
    "        countries_seen_in_subgraph[i] = miner_count_of_countries"
   ]
  },
  {
   "cell_type": "code",
   "execution_count": 346,
   "id": "792bfc47",
   "metadata": {},
   "outputs": [
    {
     "name": "stderr",
     "output_type": "stream",
     "text": [
      "100%|███████████████████████████████████████| 1202/1202 [01:33<00:00, 12.87it/s]\n"
     ]
    }
   ],
   "source": [
    "# 5. Assign locations to each node\n",
    "df_out = pd.DataFrame(columns=['node', 'original_geolocated', 'country'])\n",
    "for subgraph_idx in tqdm(selected_subgraph_idx):\n",
    "    nodes_in_subgraph = list(all_components[subgraph_idx])\n",
    "    reference_df = data[data.miner_id.isin(nodes_in_subgraph)]\n",
    "    geolocated_miners = data[data.miner_id.isin(nodes_in_subgraph) & ~data.country.isnull()].miner_id.unique()\n",
    "    confidences = reference_df.country.value_counts() /reference_df.country.value_counts().sum() \n",
    "    \n",
    "    for node in nodes_in_subgraph:\n",
    "        \n",
    "        # 5a. If original node is geolocated, set its location \n",
    "        if node in geolocated_miners:\n",
    "            dict_to_append = {\n",
    "                'node': node,\n",
    "                'original_geolocated': True,\n",
    "                'country': reference_df[reference_df.miner_id==node].country.dropna().unique()[0],\n",
    "                'confidence': 1\n",
    "            }\n",
    "            df_out = pd.concat([df_out, pd.DataFrame(dict_to_append, index=[0])])\n",
    "            \n",
    "        else:\n",
    "            # 5b. If the node wasn't originally geolocated, note the modal location and confidence\n",
    "            inferred_country = reference_df.country.value_counts().index[0]\n",
    "            dict_to_append = {\n",
    "                'node': node,\n",
    "                'original_geolocated': False,\n",
    "                'country': inferred_country,\n",
    "                'confidence': confidences[inferred_country]\n",
    "            }\n",
    "            df_out = pd.concat([df_out, pd.DataFrame(dict_to_append, index=[0])])\n",
    "            "
   ]
  },
  {
   "cell_type": "code",
   "execution_count": 347,
   "id": "c72e02ad",
   "metadata": {},
   "outputs": [],
   "source": [
    "df_final = pd.DataFrame(df_active_miners.miner_id.unique(), columns=['miner_id'])\\\n",
    "             .merge(df_out, left_on='miner_id', right_on='node')"
   ]
  },
  {
   "cell_type": "code",
   "execution_count": 348,
   "id": "7b6e3724",
   "metadata": {},
   "outputs": [
    {
     "data": {
      "text/html": [
       "<div>\n",
       "<style scoped>\n",
       "    .dataframe tbody tr th:only-of-type {\n",
       "        vertical-align: middle;\n",
       "    }\n",
       "\n",
       "    .dataframe tbody tr th {\n",
       "        vertical-align: top;\n",
       "    }\n",
       "\n",
       "    .dataframe thead th {\n",
       "        text-align: right;\n",
       "    }\n",
       "</style>\n",
       "<table border=\"1\" class=\"dataframe\">\n",
       "  <thead>\n",
       "    <tr style=\"text-align: right;\">\n",
       "      <th></th>\n",
       "      <th>miner_id</th>\n",
       "      <th>node</th>\n",
       "      <th>original_geolocated</th>\n",
       "      <th>country</th>\n",
       "      <th>confidence</th>\n",
       "    </tr>\n",
       "  </thead>\n",
       "  <tbody>\n",
       "    <tr>\n",
       "      <th>0</th>\n",
       "      <td>f01114827</td>\n",
       "      <td>f01114827</td>\n",
       "      <td>True</td>\n",
       "      <td>US</td>\n",
       "      <td>1.000000</td>\n",
       "    </tr>\n",
       "    <tr>\n",
       "      <th>1</th>\n",
       "      <td>f01662887</td>\n",
       "      <td>f01662887</td>\n",
       "      <td>True</td>\n",
       "      <td>SG</td>\n",
       "      <td>1.000000</td>\n",
       "    </tr>\n",
       "    <tr>\n",
       "      <th>2</th>\n",
       "      <td>f024944</td>\n",
       "      <td>f024944</td>\n",
       "      <td>True</td>\n",
       "      <td>KR</td>\n",
       "      <td>1.000000</td>\n",
       "    </tr>\n",
       "    <tr>\n",
       "      <th>3</th>\n",
       "      <td>f0123261</td>\n",
       "      <td>f0123261</td>\n",
       "      <td>False</td>\n",
       "      <td>SG</td>\n",
       "      <td>0.304348</td>\n",
       "    </tr>\n",
       "    <tr>\n",
       "      <th>4</th>\n",
       "      <td>f0157941</td>\n",
       "      <td>f0157941</td>\n",
       "      <td>False</td>\n",
       "      <td>CN</td>\n",
       "      <td>1.000000</td>\n",
       "    </tr>\n",
       "    <tr>\n",
       "      <th>...</th>\n",
       "      <td>...</td>\n",
       "      <td>...</td>\n",
       "      <td>...</td>\n",
       "      <td>...</td>\n",
       "      <td>...</td>\n",
       "    </tr>\n",
       "    <tr>\n",
       "      <th>1879</th>\n",
       "      <td>f01982557</td>\n",
       "      <td>f01982557</td>\n",
       "      <td>True</td>\n",
       "      <td>KR</td>\n",
       "      <td>1.000000</td>\n",
       "    </tr>\n",
       "    <tr>\n",
       "      <th>1880</th>\n",
       "      <td>f01988133</td>\n",
       "      <td>f01988133</td>\n",
       "      <td>True</td>\n",
       "      <td>RO</td>\n",
       "      <td>1.000000</td>\n",
       "    </tr>\n",
       "    <tr>\n",
       "      <th>1881</th>\n",
       "      <td>f01974667</td>\n",
       "      <td>f01974667</td>\n",
       "      <td>True</td>\n",
       "      <td>UA</td>\n",
       "      <td>1.000000</td>\n",
       "    </tr>\n",
       "    <tr>\n",
       "      <th>1882</th>\n",
       "      <td>f01983965</td>\n",
       "      <td>f01983965</td>\n",
       "      <td>True</td>\n",
       "      <td>TW</td>\n",
       "      <td>1.000000</td>\n",
       "    </tr>\n",
       "    <tr>\n",
       "      <th>1883</th>\n",
       "      <td>f015941</td>\n",
       "      <td>f015941</td>\n",
       "      <td>True</td>\n",
       "      <td>UA</td>\n",
       "      <td>1.000000</td>\n",
       "    </tr>\n",
       "  </tbody>\n",
       "</table>\n",
       "<p>1884 rows × 5 columns</p>\n",
       "</div>"
      ],
      "text/plain": [
       "       miner_id       node original_geolocated country  confidence\n",
       "0     f01114827  f01114827                True      US    1.000000\n",
       "1     f01662887  f01662887                True      SG    1.000000\n",
       "2       f024944    f024944                True      KR    1.000000\n",
       "3      f0123261   f0123261               False      SG    0.304348\n",
       "4      f0157941   f0157941               False      CN    1.000000\n",
       "...         ...        ...                 ...     ...         ...\n",
       "1879  f01982557  f01982557                True      KR    1.000000\n",
       "1880  f01988133  f01988133                True      RO    1.000000\n",
       "1881  f01974667  f01974667                True      UA    1.000000\n",
       "1882  f01983965  f01983965                True      TW    1.000000\n",
       "1883    f015941    f015941                True      UA    1.000000\n",
       "\n",
       "[1884 rows x 5 columns]"
      ]
     },
     "execution_count": 348,
     "metadata": {},
     "output_type": "execute_result"
    }
   ],
   "source": [
    "df_final"
   ]
  },
  {
   "cell_type": "code",
   "execution_count": 351,
   "id": "e8cd9e39",
   "metadata": {},
   "outputs": [
    {
     "data": {
      "text/plain": [
       "Text(0.5, 1.0, 'Distribution of miners by country')"
      ]
     },
     "execution_count": 351,
     "metadata": {},
     "output_type": "execute_result"
    },
    {
     "data": {
      "image/png": "[encoded data removed]",
      "text/plain": [
       "<Figure size 864x216 with 2 Axes>"
      ]
     },
     "metadata": {
      "needs_background": "light"
     },
     "output_type": "display_data"
    }
   ],
   "source": [
    "fig, (ax1,ax2) = plt.subplots(1,2,figsize=(12,3))\n",
    "df_final.groupby('original_geolocated').count().node.plot(kind='pie', ax=ax1)\n",
    "df_final.groupby('country').count().node.sort_values(ascending=False)[0:15].plot(kind='bar', ax=ax2)\n",
    "ax1.set_title('Active nodes %i \\n Total geolocated %i \\n Originally geolocated %i' % (len(df_active_miners.miner_id.unique()) , len(df_final), len(df_final[df_final.original_geolocated==True])))\n",
    "ax2.set_title('Distribution of miners by country')"
   ]
  },
  {
   "cell_type": "markdown",
   "id": "0e015153",
   "metadata": {},
   "source": [
    "### Compare against Jim Pick's method"
   ]
  },
  {
   "cell_type": "code",
   "execution_count": 412,
   "id": "973de858",
   "metadata": {},
   "outputs": [],
   "source": [
    "locations_jimpick = pd.read_json('https://geoip.feeds.provider.quest/synthetic-locations-latest.json')\n",
    "locations_df = pd.json_normalize(locations_jimpick.providerLocations)\n",
    "locations_df['country_multi'] = locations_df['country']\n",
    "data_jim_df = data.drop(columns='country').merge(locations_df, how='left', left_on='miner_id', right_on='provider')"
   ]
  },
  {
   "cell_type": "code",
   "execution_count": 434,
   "id": "e8de74b1",
   "metadata": {},
   "outputs": [
    {
     "data": {
      "text/plain": [
       "Text(0.5, 1.0, 'Total active miners 4159 / Geolocated miners 4155')"
      ]
     },
     "execution_count": 434,
     "metadata": {},
     "output_type": "execute_result"
    },
    {
     "data": {
      "image/png": "[encoded data removed]",
      "text/plain": [
       "<Figure size 432x288 with 1 Axes>"
      ]
     },
     "metadata": {
      "needs_background": "light"
     },
     "output_type": "display_data"
    }
   ],
   "source": [
    "fig, ax = plt.subplots()\n",
    "df_active_miners.merge(locations_df, how='left', left_on='miner_id', right_on='provider').country.value_counts()[0:15].plot(kind='bar', ax=ax)\n",
    "ax.set_title('Total active miners %i / Geolocated miners %i' % (len(df_active_miners), len(data_jim_df[data_jim_df.is_active_miner==True].miner_id.unique())))"
   ]
  }
 ],
 "metadata": {
  "kernelspec": {
   "display_name": "Python 3 (ipykernel)",
   "language": "python",
   "name": "python3"
  },
  "language_info": {
   "codemirror_mode": {
    "name": "ipython",
    "version": 3
   },
   "file_extension": ".py",
   "mimetype": "text/x-python",
   "name": "python",
   "nbconvert_exporter": "python",
   "pygments_lexer": "ipython3",
   "version": "3.9.10"
  }
 },
 "nbformat": 4,
 "nbformat_minor": 5
}
